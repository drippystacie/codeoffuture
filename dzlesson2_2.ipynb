{
  "nbformat": 4,
  "nbformat_minor": 0,
  "metadata": {
    "colab": {
      "provenance": [],
      "authorship_tag": "ABX9TyMKOUk6GhnYJU5643x5Agm7",
      "include_colab_link": true
    },
    "kernelspec": {
      "name": "python3",
      "display_name": "Python 3"
    },
    "language_info": {
      "name": "python"
    }
  },
  "cells": [
    {
      "cell_type": "markdown",
      "metadata": {
        "id": "view-in-github",
        "colab_type": "text"
      },
      "source": [
        "<a href=\"https://colab.research.google.com/github/drippystacie/codeoffuture/blob/main/dzlesson2_2.ipynb\" target=\"_parent\"><img src=\"https://colab.research.google.com/assets/colab-badge.svg\" alt=\"Open In Colab\"/></a>"
      ]
    },
    {
      "cell_type": "markdown",
      "source": [
        "Создайте вектор из 100 случайных чисел от 1 до 10, по аналогии, как был создан вектор из 5 случайных чисел от 1 до 2: arr = np.random.randint(1, 2, size=5). Посчитайте, не используя циклы, какой процент элементов в векторе больше 7.\n"
      ],
      "metadata": {
        "id": "YqhcX0ZrrZO4"
      }
    },
    {
      "cell_type": "code",
      "execution_count": 1,
      "metadata": {
        "id": "KDPM15WAtW0M",
        "colab": {
          "base_uri": "https://localhost:8080/"
        },
        "outputId": "599cc1a0-8370-418d-8161-a5bb88d798a3"
      },
      "outputs": [
        {
          "output_type": "stream",
          "name": "stdout",
          "text": [
            "Процент элементов в векторе больше 7: 34.0\n"
          ]
        }
      ],
      "source": [
        "import numpy as np\n",
        "a = np.random.randint(1, 11, size=100)\n",
        "count = np.sum(a > 7)\n",
        "b = count / len(a) * 100\n",
        "print(\"Процент элементов в векторе больше 7:\", b)"
      ]
    },
    {
      "cell_type": "markdown",
      "source": [
        "Проведите опыт из предыдущей задачи 1000 раз, а именно, создание вектора и подсчёт процента элементов, больших 7. Какая часть полученных результатов равно 20 %?\n"
      ],
      "metadata": {
        "id": "HhyyEspprcin"
      }
    },
    {
      "cell_type": "code",
      "source": [
        "results = []\n",
        "for i in range(1000):\n",
        "    a = np.random.randint(1, 11, size=100)\n",
        "    count = np.sum(a > 7)\n",
        "    b = count / len(a) * 100\n",
        "    results.append(b)\n",
        "    count_20 = results.count(20)\n",
        "b1 = count_20 / len(results) * 100\n",
        "print(\"Часть результатов, равных 20 %:\", b1)"
      ],
      "metadata": {
        "colab": {
          "base_uri": "https://localhost:8080/"
        },
        "id": "fA_Re9VprcO_",
        "outputId": "d604e689-c324-42b6-96ed-09ef0b44ebd3"
      },
      "execution_count": 2,
      "outputs": [
        {
          "output_type": "stream",
          "name": "stdout",
          "text": [
            "Часть результатов, равных 20 %: 0.6\n"
          ]
        }
      ]
    },
    {
      "cell_type": "markdown",
      "source": [
        "Создайте матрицу numpy 10 x 10, где каждая строка будет выглядеть, как 1, 2, 3, 4, 5, 6, 7, 8, 9, 10. Желательно не использовать циклы.\n"
      ],
      "metadata": {
        "id": "4eS5N3_br0Ad"
      }
    },
    {
      "cell_type": "code",
      "source": [
        "import numpy as np\n",
        "a = np.array([1, 2, 3, 4, 5, 6, 7, 8, 9, 10])\n",
        "b = np.tile(a, (10, 1))\n",
        "print(b)"
      ],
      "metadata": {
        "colab": {
          "base_uri": "https://localhost:8080/"
        },
        "id": "mf5svwPZr8-R",
        "outputId": "8e50c47c-acde-446b-9b52-bdf521c17002"
      },
      "execution_count": 6,
      "outputs": [
        {
          "output_type": "stream",
          "name": "stdout",
          "text": [
            "[[ 1  2  3  4  5  6  7  8  9 10]\n",
            " [ 1  2  3  4  5  6  7  8  9 10]\n",
            " [ 1  2  3  4  5  6  7  8  9 10]\n",
            " [ 1  2  3  4  5  6  7  8  9 10]\n",
            " [ 1  2  3  4  5  6  7  8  9 10]\n",
            " [ 1  2  3  4  5  6  7  8  9 10]\n",
            " [ 1  2  3  4  5  6  7  8  9 10]\n",
            " [ 1  2  3  4  5  6  7  8  9 10]\n",
            " [ 1  2  3  4  5  6  7  8  9 10]\n",
            " [ 1  2  3  4  5  6  7  8  9 10]]\n"
          ]
        }
      ]
    },
    {
      "cell_type": "markdown",
      "source": [
        "Не используя циклы, найдите суммы элементов матрицы в каждом столбце.\n"
      ],
      "metadata": {
        "id": "xblnxn7Psnze"
      }
    },
    {
      "cell_type": "code",
      "source": [
        "import numpy as np\n",
        "a = np.tile(np.arange(1, 11), (10, 1))\n",
        "summa = np.sum(a, axis=0)\n",
        "print(summa)"
      ],
      "metadata": {
        "colab": {
          "base_uri": "https://localhost:8080/"
        },
        "id": "sgoIgud1sYKv",
        "outputId": "ae65867d-039a-44f3-e561-673efaab5baa"
      },
      "execution_count": 7,
      "outputs": [
        {
          "output_type": "stream",
          "name": "stdout",
          "text": [
            "[ 10  20  30  40  50  60  70  80  90 100]\n"
          ]
        }
      ]
    }
  ]
}