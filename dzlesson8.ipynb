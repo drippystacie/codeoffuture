{
  "nbformat": 4,
  "nbformat_minor": 0,
  "metadata": {
    "colab": {
      "provenance": [],
      "authorship_tag": "ABX9TyN24GHhJke/XqWKVcsYxXts",
      "include_colab_link": true
    },
    "kernelspec": {
      "name": "python3",
      "display_name": "Python 3"
    },
    "language_info": {
      "name": "python"
    }
  },
  "cells": [
    {
      "cell_type": "markdown",
      "metadata": {
        "id": "view-in-github",
        "colab_type": "text"
      },
      "source": [
        "<a href=\"https://colab.research.google.com/github/drippystacie/codeoffuture/blob/main/dzlesson8.ipynb\" target=\"_parent\"><img src=\"https://colab.research.google.com/assets/colab-badge.svg\" alt=\"Open In Colab\"/></a>"
      ]
    },
    {
      "cell_type": "code",
      "execution_count": 8,
      "metadata": {
        "colab": {
          "base_uri": "https://localhost:8080/"
        },
        "id": "jXzmH5KM4zmr",
        "outputId": "8e4ad78c-c6ef-46c7-ba42-603eddc11740"
      },
      "outputs": [
        {
          "output_type": "stream",
          "name": "stdout",
          "text": [
            "12 34 63 1711\n",
            "1711\n"
          ]
        }
      ],
      "source": [
        "def max_num(C = []):\n",
        "  if len(C) == 0:\n",
        "    return 0\n",
        "  elif len(C) == 1:\n",
        "    return C[0]\n",
        "  elif C[0] - C[1] > 0:\n",
        "    C.pop(1)\n",
        "    return max_num(C)\n",
        "  else:\n",
        "    C = C[1:]\n",
        "    return max_num(C)\n",
        "chisla = input()\n",
        "C = chisla.split()\n",
        "C = list(map(int, C))\n",
        "print(max_num(C))"
      ]
    }
  ]
}