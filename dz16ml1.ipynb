{
  "nbformat": 4,
  "nbformat_minor": 0,
  "metadata": {
    "colab": {
      "provenance": [],
      "authorship_tag": "ABX9TyNaLebwtrHCm8efdRDtkNOq",
      "include_colab_link": true
    },
    "kernelspec": {
      "name": "python3",
      "display_name": "Python 3"
    },
    "language_info": {
      "name": "python"
    }
  },
  "cells": [
    {
      "cell_type": "markdown",
      "metadata": {
        "id": "view-in-github",
        "colab_type": "text"
      },
      "source": [
        "<a href=\"https://colab.research.google.com/github/drippystacie/codeoffuture/blob/main/dz16ml1.ipynb\" target=\"_parent\"><img src=\"https://colab.research.google.com/assets/colab-badge.svg\" alt=\"Open In Colab\"/></a>"
      ]
    },
    {
      "cell_type": "markdown",
      "source": [
        "Найдите транспонированную матрицу A, если:\n",
        "a) A=1 54 1 6 2 7\n",
        "b) A=1 7 8 4 2 9 5 6 3"
      ],
      "metadata": {
        "id": "7U_-N2-QYwkQ"
      }
    },
    {
      "cell_type": "code",
      "execution_count": null,
      "metadata": {
        "colab": {
          "base_uri": "https://localhost:8080/"
        },
        "id": "t1AV2FSNXyqH",
        "outputId": "6181c61f-e7ac-4891-ffc9-459a0cab8758"
      },
      "outputs": [
        {
          "output_type": "stream",
          "name": "stdout",
          "text": [
            "[[ 1  6]\n",
            " [54  2]\n",
            " [ 1  7]]\n"
          ]
        }
      ],
      "source": [
        "import numpy as np\n",
        "A = np.array([[1, 54, 1], [6, 2, 7]])\n",
        "A_transposed = np.transpose(A)\n",
        "print(A_transposed)"
      ]
    },
    {
      "cell_type": "code",
      "source": [
        "import numpy as np\n",
        "A = np.array([[1, 7, 8], [4, 2, 9], [5, 6, 3]])\n",
        "A_transposed = np.transpose(A)\n",
        "print(A_transposed)"
      ],
      "metadata": {
        "colab": {
          "base_uri": "https://localhost:8080/"
        },
        "id": "Mv7BR4PIY4fB",
        "outputId": "12831478-51ca-4781-c8ac-2ee471d21b59"
      },
      "execution_count": null,
      "outputs": [
        {
          "output_type": "stream",
          "name": "stdout",
          "text": [
            "[[1 4 5]\n",
            " [7 2 6]\n",
            " [8 9 3]]\n"
          ]
        }
      ]
    },
    {
      "cell_type": "markdown",
      "source": [
        "Если возможно, найдите матричное произведение матриц A, B, если:\n",
        "a) A=1 2 4 5 7 8 , B=1 1 0 0 1 1 1 0 1\n",
        "b) A=1 2 3 4 5 6 7 8 9 , B=1 1 0 0 1 1 1 0 1"
      ],
      "metadata": {
        "id": "LbuHnNMeY8qU"
      }
    },
    {
      "cell_type": "code",
      "source": [
        "import numpy as np\n",
        "A = np.array([[1, 2, 4], [5, 7, 8]])\n",
        "B = np.array([[1, 1, 0], [0, 1, 1], [1, 0, 1]])\n",
        "AB = np.dot(A, B)\n",
        "print(AB)"
      ],
      "metadata": {
        "colab": {
          "base_uri": "https://localhost:8080/"
        },
        "id": "I3NLncPnZOBF",
        "outputId": "3f528f9c-bd52-4d47-b27b-d1e151d5aeec"
      },
      "execution_count": null,
      "outputs": [
        {
          "output_type": "stream",
          "name": "stdout",
          "text": [
            "[[ 5  3  6]\n",
            " [13 12 15]]\n"
          ]
        }
      ]
    },
    {
      "cell_type": "code",
      "source": [
        "import numpy as np\n",
        "A = np.array([[1, 2, 3], [4, 5, 6], [7, 8, 9]])\n",
        "B = np.array([[1, 1, 0], [0, 1, 1], [1, 0, 1]])\n",
        "AB = np.dot(A, B)\n",
        "print(AB)"
      ],
      "metadata": {
        "colab": {
          "base_uri": "https://localhost:8080/"
        },
        "id": "Q9fjm6NsZULu",
        "outputId": "e14652f8-e326-4c9f-c370-174f3fa49018"
      },
      "execution_count": null,
      "outputs": [
        {
          "output_type": "stream",
          "name": "stdout",
          "text": [
            "[[ 4  3  5]\n",
            " [10  9 11]\n",
            " [16 15 17]]\n"
          ]
        }
      ]
    },
    {
      "cell_type": "markdown",
      "source": [
        "Вычислите оптимальный вектор весов по формуле w=XTX-1XTY=XTYXTX. Для этого сформируйте матрицы X, Y, а потом выполните все необходимые операции, подставляя их в формулу, кроме взятия обратной матрицы. Ответ представить в виде w=АВ, где A=XTY, B=XTX. Проделать для следующего датасета:\n",
        "\n",
        "Номер дома\n",
        "Кол-во спален\n",
        "Площадь, м2\n",
        "Цена, тыс. $\n",
        "1\n",
        "1\n",
        "145\n",
        "80\n",
        "2\n",
        "2\n",
        "163\n",
        "170\n",
        "3\n",
        "3\n",
        "240\n",
        "100\n",
        "4\n",
        "3\n",
        "350\n",
        "220\n",
        "5\n",
        "4\n",
        "421\n",
        "200\n",
        "6\n",
        "4\n",
        "397\n",
        "270\n",
        "7\n",
        "5\n",
        "620\n",
        "500\n",
        "\n",
        "\n",
        "\n",
        "\n",
        "\n",
        "\n"
      ],
      "metadata": {
        "id": "vJPQ7QnYZ3XM"
      }
    },
    {
      "cell_type": "code",
      "source": [
        "import pandas as pd\n",
        "import numpy as np\n",
        "data = {\n",
        "    'dom': [1, 2, 3, 4, 5, 6, 7],\n",
        "    'spalni': [1, 2, 3, 3, 4, 4, 5],\n",
        "    'ploshad': [145, 163, 240, 350, 421, 397, 620],\n",
        "    'cena': [80, 170, 100, 220, 200, 270, 500]\n",
        "}\n",
        "df = pd.DataFrame(data)\n",
        "X = df[['spalni', 'ploshad']].values\n",
        "Y = df['cena'].values\n",
        "A = np.dot(X.T, Y)\n",
        "B = np.dot(X.T, X)\n",
        "A, B"
      ],
      "metadata": {
        "colab": {
          "base_uri": "https://localhost:8080/"
        },
        "id": "rGm8lu1qZ2w_",
        "outputId": "f4de2c31-ca81-4509-bc91-becee5e42753"
      },
      "execution_count": null,
      "outputs": [
        {
          "output_type": "execute_result",
          "data": {
            "text/plain": [
              "(array([  5760, 641700]),\n",
              " array([[    80,   8613],\n",
              "        [  8613, 946944]]))"
            ]
          },
          "metadata": {},
          "execution_count": 6
        }
      ]
    }
  ]
}