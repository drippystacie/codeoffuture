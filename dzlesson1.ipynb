{
  "nbformat": 4,
  "nbformat_minor": 0,
  "metadata": {
    "colab": {
      "provenance": [],
      "authorship_tag": "ABX9TyOkV6+DmKiavoKO3eve3GxW",
      "include_colab_link": true
    },
    "kernelspec": {
      "name": "python3",
      "display_name": "Python 3"
    },
    "language_info": {
      "name": "python"
    }
  },
  "cells": [
    {
      "cell_type": "markdown",
      "metadata": {
        "id": "view-in-github",
        "colab_type": "text"
      },
      "source": [
        "<a href=\"https://colab.research.google.com/github/drippystacie/codeoffuture/blob/main/dzlesson1.ipynb\" target=\"_parent\"><img src=\"https://colab.research.google.com/assets/colab-badge.svg\" alt=\"Open In Colab\"/></a>"
      ]
    },
    {
      "cell_type": "markdown",
      "source": [
        "Написать программу, которая будет округлять число до заданного количества знаков после запятой."
      ],
      "metadata": {
        "id": "Phdvmpiy5bx7"
      }
    },
    {
      "cell_type": "code",
      "source": [
        "print('До скольки знаков округлять хочешь?')\n",
        "s = int(input())\n",
        "print('Введи число для округления')\n",
        "n = float(input())\n",
        "print(round(n, s))"
      ],
      "metadata": {
        "colab": {
          "base_uri": "https://localhost:8080/"
        },
        "id": "KIDhhRBC5dmX",
        "outputId": "a0331a85-3bd0-4989-84d9-437377925ebe"
      },
      "execution_count": 3,
      "outputs": [
        {
          "output_type": "stream",
          "name": "stdout",
          "text": [
            "До скольки знаков округлять хочешь?\n",
            "4\n",
            "Введи число для округления\n",
            "15.536576573\n",
            "15.5366\n"
          ]
        }
      ]
    },
    {
      "cell_type": "markdown",
      "source": [
        "Написать программу, которая будет находить среднее арифметическое двух чисел и округлять его до целого числа"
      ],
      "metadata": {
        "id": "y-pQRJOOk-nK"
      }
    },
    {
      "cell_type": "code",
      "source": [
        "a = float(input())\n",
        "b = float(input())\n",
        "c = (a + b) / 2\n",
        "print(round(c))"
      ],
      "metadata": {
        "colab": {
          "base_uri": "https://localhost:8080/"
        },
        "id": "HWquEJK8lAZQ",
        "outputId": "f97c660e-b09d-4436-f530-835cbb028316"
      },
      "execution_count": 7,
      "outputs": [
        {
          "output_type": "stream",
          "name": "stdout",
          "text": [
            "5\n",
            "10.5\n",
            "8\n"
          ]
        }
      ]
    }
  ]
}