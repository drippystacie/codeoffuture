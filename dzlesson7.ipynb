{
  "nbformat": 4,
  "nbformat_minor": 0,
  "metadata": {
    "colab": {
      "provenance": [],
      "authorship_tag": "ABX9TyNrmNYGm+KLZVemhzbxs14+",
      "include_colab_link": true
    },
    "kernelspec": {
      "name": "python3",
      "display_name": "Python 3"
    },
    "language_info": {
      "name": "python"
    }
  },
  "cells": [
    {
      "cell_type": "markdown",
      "metadata": {
        "id": "view-in-github",
        "colab_type": "text"
      },
      "source": [
        "<a href=\"https://colab.research.google.com/github/drippystacie/codeoffuture/blob/main/dzlesson7.ipynb\" target=\"_parent\"><img src=\"https://colab.research.google.com/assets/colab-badge.svg\" alt=\"Open In Colab\"/></a>"
      ]
    },
    {
      "cell_type": "markdown",
      "source": [
        "Напишите программу на Python для поочередного сложения элементов двух заданных списков, используя map и lambda."
      ],
      "metadata": {
        "id": "EXdP7pIFmzA0"
      }
    },
    {
      "cell_type": "code",
      "execution_count": 1,
      "metadata": {
        "colab": {
          "base_uri": "https://localhost:8080/"
        },
        "id": "mfui-MtemZh9",
        "outputId": "e16e046a-9668-4394-ace6-0ab7902aa58a"
      },
      "outputs": [
        {
          "output_type": "stream",
          "name": "stdout",
          "text": [
            "[5, 7, 9]\n"
          ]
        }
      ],
      "source": [
        "def summa_spiskov(list1, list2):\n",
        "    return list(map(lambda x, y: x + y, list1, list2))\n",
        "list1 = [1, 2, 3]\n",
        "list2 = [4, 5, 6]\n",
        "result = summa_spiskov(list1, list2)\n",
        "print(result)"
      ]
    },
    {
      "cell_type": "markdown",
      "source": [
        " Напишите программу на Python для поиска чисел из списка, кратных девятнадцати или тринадцати, используя filter и  Lambda."
      ],
      "metadata": {
        "id": "2Pq46t9mnWF0"
      }
    },
    {
      "cell_type": "code",
      "source": [
        "chisla = 19, 13, 23, 28, 40, 57, 65, 76, 89, 91\n",
        "result = list(filter(lambda x: x % 19 == 0 or x % 13 == 0, chisla))\n",
        "print(result)"
      ],
      "metadata": {
        "colab": {
          "base_uri": "https://localhost:8080/"
        },
        "id": "KQ6bOZsim1eZ",
        "outputId": "9e5ef176-bd69-4b53-a9b1-de14b7b801ea"
      },
      "execution_count": 3,
      "outputs": [
        {
          "output_type": "stream",
          "name": "stdout",
          "text": [
            "[19, 13, 57, 65, 76, 91]\n"
          ]
        }
      ]
    },
    {
      "cell_type": "markdown",
      "source": [
        "Напишите программу на Python для вычисления наибольшего элемента в списке при помощи reduce"
      ],
      "metadata": {
        "id": "wJn8UozGpo6q"
      }
    },
    {
      "cell_type": "code",
      "source": [
        "from functools import reduce\n",
        "chislaa = 10, 5, 8, 13, 2, 6\n",
        "maximum = reduce(lambda x, y: x if x > y else y, chislaa)\n",
        "print(maximum)"
      ],
      "metadata": {
        "colab": {
          "base_uri": "https://localhost:8080/"
        },
        "id": "gCZynUaxpqL5",
        "outputId": "9825cb50-262b-448e-f632-dbd23b67a477"
      },
      "execution_count": 4,
      "outputs": [
        {
          "output_type": "stream",
          "name": "stdout",
          "text": [
            "13\n"
          ]
        }
      ]
    }
  ]
}