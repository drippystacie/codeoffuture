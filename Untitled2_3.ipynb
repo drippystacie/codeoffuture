{
  "nbformat": 4,
  "nbformat_minor": 0,
  "metadata": {
    "colab": {
      "provenance": [],
      "authorship_tag": "ABX9TyP/OuJkl9ssdC5dkO/kKYh/",
      "include_colab_link": true
    },
    "kernelspec": {
      "name": "python3",
      "display_name": "Python 3"
    },
    "language_info": {
      "name": "python"
    }
  },
  "cells": [
    {
      "cell_type": "markdown",
      "metadata": {
        "id": "view-in-github",
        "colab_type": "text"
      },
      "source": [
        "<a href=\"https://colab.research.google.com/github/drippystacie/codeoffuture/blob/main/Untitled2_3.ipynb\" target=\"_parent\"><img src=\"https://colab.research.google.com/assets/colab-badge.svg\" alt=\"Open In Colab\"/></a>"
      ]
    },
    {
      "cell_type": "code",
      "execution_count": 3,
      "metadata": {
        "colab": {
          "base_uri": "https://localhost:8080/"
        },
        "id": "UA37kXHjGqfV",
        "outputId": "81596426-30c3-4bad-f6cb-353a14d2e07f"
      },
      "outputs": [
        {
          "output_type": "stream",
          "name": "stdout",
          "text": [
            "Первые 3 строки:\n",
            "         Имя  Возраст Место работы Место проживания\n",
            "0  Анастасия       25  Поликлиника           Москва\n",
            "1       Петр       30        Школа         Балашиха\n",
            "2      Мария       28     IT-центр           Реутов\n",
            "\n",
            "Последние 3 строки:\n",
            "     Имя  Возраст Место работы Место проживания\n",
            "2  Мария       28     IT-центр           Реутов\n",
            "3   Иван       35  Ветеринария          Королев\n",
            "4  Елена       29      Колледж           Мытищи\n"
          ]
        }
      ],
      "source": [
        "import pandas as pd\n",
        "data = {\n",
        "    'Имя': ['Анастасия', 'Петр', 'Мария', 'Иван', 'Елена'],\n",
        "    'Возраст': [25, 30, 28, 35, 29],\n",
        "    'Место работы': ['Поликлиника', 'Школа', 'IT-центр', 'Ветеринария', 'Колледж'],\n",
        "    'Место проживания':['Москва', 'Балашиха', 'Реутов', 'Королев', 'Мытищи'],\n",
        "}\n",
        "df = pd.DataFrame(data)\n",
        "print(\"Первые 3 строки:\")\n",
        "print(df.head(3))\n",
        "print(\"\\nПоследние 3 строки:\")\n",
        "print(df.tail(3))\n",
        "df.to_csv('my_data.csv', index=False)"
      ]
    }
  ]
}