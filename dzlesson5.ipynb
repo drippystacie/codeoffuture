{
  "nbformat": 4,
  "nbformat_minor": 0,
  "metadata": {
    "colab": {
      "provenance": [],
      "authorship_tag": "ABX9TyNVg5T+ICEjBsNDs/LU8+D1",
      "include_colab_link": true
    },
    "kernelspec": {
      "name": "python3",
      "display_name": "Python 3"
    },
    "language_info": {
      "name": "python"
    }
  },
  "cells": [
    {
      "cell_type": "markdown",
      "metadata": {
        "id": "view-in-github",
        "colab_type": "text"
      },
      "source": [
        "<a href=\"https://colab.research.google.com/github/drippystacie/codeoffuture/blob/main/dzlesson5.ipynb\" target=\"_parent\"><img src=\"https://colab.research.google.com/assets/colab-badge.svg\" alt=\"Open In Colab\"/></a>"
      ]
    },
    {
      "cell_type": "markdown",
      "source": [
        "Нужно написать программу, которая бы вычисляла количество городов, названия которых повторяются. В первой строке указывается количество городов n, затем вводятся n строк с названиями городов."
      ],
      "metadata": {
        "id": "Yy6Egx5l5Gxr"
      }
    },
    {
      "cell_type": "code",
      "execution_count": 3,
      "metadata": {
        "colab": {
          "base_uri": "https://localhost:8080/"
        },
        "id": "b1aAqHvFE8CT",
        "outputId": "e946a987-581f-4147-f3b7-68db7cc608ae"
      },
      "outputs": [
        {
          "output_type": "stream",
          "name": "stdout",
          "text": [
            "Введите количество городов: 6\n",
            "Курск\n",
            "Калуга\n",
            "Анапа\n",
            "Анапа\n",
            "Абинск\n",
            "Курск\n",
            "Повторов:  2\n"
          ]
        }
      ],
      "source": [
        "n = int(input(\"Введите количество городов: \"))\n",
        "cities = []\n",
        "for i in range(n):\n",
        "    city = input()\n",
        "    cities.append(city)\n",
        "count = 0\n",
        "for city in set(cities):\n",
        "    if cities.count(city) > 1:\n",
        "        count += 1\n",
        "print(\"Повторов: \", count)"
      ]
    },
    {
      "cell_type": "markdown",
      "source": [
        "Младшая сестра Фёдора - Соня пишет сочинение по литературе и отправляет файлы учительнице.\n",
        "Фёдор знает, что Соня никогда не ставит заглавные буквы, так как для набора текста использует компьютер. Пока никто не видит, Фёдор решил внести исправления в сочинение сестры и написал программу, которая восстанавливает заглавные буквы в строке.\n",
        "Программа работает по следующему алгоритму:\n",
        "* сделать заглавной первую букву в строке, не считая пробелы;\n",
        "* сделать заглавной первую букву после точки, восклицательного или вопросительного знака, не считая пробелы.\n",
        "Ввод: на этом заканчиваю свое сочинение. поставьте пятерку, Мария Ивановна! я очень старалась!\n",
        "Вывод: На этом заканчиваю свое сочинение. Поставьте пятерку, Мария Ивановна! Я очень старалась!\n",
        "\n"
      ],
      "metadata": {
        "id": "aUs-_xFr5IgZ"
      }
    },
    {
      "cell_type": "code",
      "source": [
        "def caps(text):\n",
        "    result = \"\"\n",
        "    capss = True\n",
        "    for i in range(len(text)):\n",
        "        if capss and text[i].isalpha():\n",
        "            result += text[i].upper()\n",
        "            capss = False\n",
        "        else:\n",
        "            result += text[i]\n",
        "        if text[i] in \".!?\":\n",
        "            capss = True\n",
        "    return result\n",
        "text = input()\n",
        "resultat = caps(text)\n",
        "print(resultat)"
      ],
      "metadata": {
        "colab": {
          "base_uri": "https://localhost:8080/"
        },
        "id": "OD6xgPUK76s0",
        "outputId": "c10774d5-1d16-4e90-c238-5f800f932263"
      },
      "execution_count": 7,
      "outputs": [
        {
          "output_type": "stream",
          "name": "stdout",
          "text": [
            "на этом заканчиваю свое сочинение. поставьте пятерку, Мария Ивановна! я очень старалась\n",
            "На этом заканчиваю свое сочинение. Поставьте пятерку, Мария Ивановна! Я очень старалась\n"
          ]
        }
      ]
    },
    {
      "cell_type": "markdown",
      "source": [
        "Задача 3.Проверка на анаграмму. Пользователь вводит две строки. Напишите программу, которая определяет, являются ли эти строки анаграммами (содержат одни и те же символы, но в разном порядке). Выведите соответствующее сообщение.\n",
        "Подсказка: воспользуйтесь множеством для сравнения уникальных символов в строке, но не забудьте избавиться от пробелов.\n"
      ],
      "metadata": {
        "id": "miNMuWG28kqB"
      }
    },
    {
      "cell_type": "code",
      "source": [
        "str1 = input(\"Введите первую строку: \")\n",
        "str2 = input(\"Введите вторую строку: \")\n",
        "str1 = str1.replace(\" \", \"\").lower()\n",
        "str2 = str2.replace(\" \", \"\").lower()\n",
        "if set(str1) == set(str2):\n",
        "    print(\"Строки являются анаграммами\")\n",
        "else:\n",
        "    print(\"Строки не являются анаграммами\")"
      ],
      "metadata": {
        "colab": {
          "base_uri": "https://localhost:8080/"
        },
        "id": "W8MD_cE28ojD",
        "outputId": "db8f612e-cb49-424d-d283-21205648c0a0"
      },
      "execution_count": 8,
      "outputs": [
        {
          "output_type": "stream",
          "name": "stdout",
          "text": [
            "Введите первую строку: привет 123\n",
            "Введите вторую строку: 123 привет\n",
            "Строки являются анаграммами\n"
          ]
        }
      ]
    },
    {
      "cell_type": "markdown",
      "source": [
        "В олимпиаде по математике школьникам было предложено решить одну задачу по алгебре, одну по геометрии и одну по тригонометрии. Напишите программу, которая определяет, сколько учащихся решили все задачи."
      ],
      "metadata": {
        "id": "l_JMGJsp80pL"
      }
    },
    {
      "cell_type": "code",
      "source": [
        "algebra = set(input(\"Введите фамилии: \").split())\n",
        "geometry = set(input(\"Введите фамилии: \").split())\n",
        "trigonometry = set(input(\"Введите фамилии: \").split())\n",
        "reshili = len(algebra & geometry & trigonometry)\n",
        "reshili = sorted(list(algebra & geometry & trigonometry))\n",
        "print(f\"Ученики, решивших все задачи: {reshili}\")\n",
        "\n",
        "if reshili:\n",
        "    print(\" \".join(reshili))\n",
        "else:\n",
        "    print(\"Все три задачи никто не решил\")\n"
      ],
      "metadata": {
        "colab": {
          "base_uri": "https://localhost:8080/"
        },
        "id": "_0nL7V0P83dl",
        "outputId": "62bf3c06-23ea-4793-d878-98667964e805"
      },
      "execution_count": 13,
      "outputs": [
        {
          "output_type": "stream",
          "name": "stdout",
          "text": [
            "Введите фамилии: Андреева Смирнов Соболев Аванесов\n",
            "Введите фамилии: Аванесов Смирнов\n",
            "Введите фамилии: Смирнов Аванесов Соболев\n",
            "Количество учеников, решивших все задачи: ['Аванесов', 'Смирнов']\n",
            "Аванесов Смирнов\n"
          ]
        }
      ]
    }
  ]
}