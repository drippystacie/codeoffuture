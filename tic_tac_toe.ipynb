{
  "nbformat": 4,
  "nbformat_minor": 0,
  "metadata": {
    "colab": {
      "provenance": [],
      "authorship_tag": "ABX9TyP1Vblg/iPLfNevdYRcfZUw",
      "include_colab_link": true
    },
    "kernelspec": {
      "name": "python3",
      "display_name": "Python 3"
    },
    "language_info": {
      "name": "python"
    }
  },
  "cells": [
    {
      "cell_type": "markdown",
      "metadata": {
        "id": "view-in-github",
        "colab_type": "text"
      },
      "source": [
        "<a href=\"https://colab.research.google.com/github/drippystacie/codeoffuture/blob/main/tic_tac_toe.ipynb\" target=\"_parent\"><img src=\"https://colab.research.google.com/assets/colab-badge.svg\" alt=\"Open In Colab\"/></a>"
      ]
    },
    {
      "cell_type": "code",
      "execution_count": 2,
      "metadata": {
        "colab": {
          "base_uri": "https://localhost:8080/"
        },
        "id": "yzPQDmeWM92m",
        "outputId": "2b554754-3ed5-4b51-a43b-a6ba9d09c223"
      },
      "outputs": [
        {
          "output_type": "stream",
          "name": "stdout",
          "text": [
            " | | \n",
            "-+-+-\n",
            " | | \n",
            "-+-+-\n",
            " | | \n",
            "Введите свой ход (1-9): 2\n",
            " |X| \n",
            "-+-+-\n",
            " | | \n",
            "-+-+-\n",
            " | | \n",
            " |X| \n",
            "-+-+-\n",
            "O| | \n",
            "-+-+-\n",
            " | | \n",
            "Введите свой ход (1-9): 4\n",
            "Неверно. Попробуйте еще.\n",
            "Введите свой ход (1-9): 5\n",
            " |X| \n",
            "-+-+-\n",
            "O|X| \n",
            "-+-+-\n",
            " | | \n",
            "O|X| \n",
            "-+-+-\n",
            "O|X| \n",
            "-+-+-\n",
            " | | \n",
            "Введите свой ход (1-9): 8\n",
            "O|X| \n",
            "-+-+-\n",
            "O|X| \n",
            "-+-+-\n",
            " |X| \n",
            "Поздравляю! Вы выиграли!\n"
          ]
        }
      ],
      "source": [
        "import random\n",
        "\n",
        "def draw_board(x):\n",
        "    print(x[0] + '|' + x[1] + '|' + x[2])\n",
        "    print('-+-+-')\n",
        "    print(x[3] + '|' + x[4] + '|' + x[5])\n",
        "    print('-+-+-')\n",
        "    print(x[6] + '|' + x[7] + '|' + x[8])\n",
        "\n",
        "def get_player_move(x, player_symbol):\n",
        "    while True:\n",
        "        move = input(\"Введите свой ход (1-9): \")\n",
        "        if move.isdigit() and 1 <= int(move) <= 9 and x[int(move) - 1] == ' ':\n",
        "            return int(move) - 1\n",
        "        else:\n",
        "            print(\"Неверно. Попробуйте еще.\")\n",
        "\n",
        "def get_computer_move(x, computer_symbol):\n",
        "    while True:\n",
        "        move = random.randint(0, 8)\n",
        "        if x[move] == ' ':\n",
        "            return move\n",
        "\n",
        "def check_win(x, symbol):\n",
        "    winning_combinations = [[0, 1, 2], [3, 4, 5], [6, 7, 8], [0, 3, 6], [1, 4, 7], [2, 5, 8], [0, 4, 8], [2, 4, 6]]\n",
        "    for combo in winning_combinations:\n",
        "        if x[combo[0]] == x[combo[1]] == x[combo[2]] == symbol:\n",
        "            return True\n",
        "    return False\n",
        "\n",
        "def main():\n",
        "    x = [' ']*9\n",
        "    player_symbol = 'X'\n",
        "    computer_symbol = 'O'\n",
        "    current_player = 'player'\n",
        "\n",
        "    while True:\n",
        "        draw_board(x)\n",
        "\n",
        "        if current_player == 'player':\n",
        "            move = get_player_move(x, player_symbol)\n",
        "            x[move] = player_symbol\n",
        "            if check_win(x, player_symbol):\n",
        "                draw_board(x)\n",
        "                print(\"Поздравляю! Вы выиграли!\")\n",
        "                break\n",
        "            current_player = 'computer'\n",
        "        else:\n",
        "            move = get_computer_move(x, computer_symbol)\n",
        "            x[move] = computer_symbol\n",
        "            if check_win(x, computer_symbol):\n",
        "                draw_board(x)\n",
        "                print(\"Компьютер выиграл!\")\n",
        "                break\n",
        "            current_player = 'player'\n",
        "\n",
        "        if ' ' not in x:\n",
        "            draw_board(x)\n",
        "            print(\"Ничья\")\n",
        "            break\n",
        "\n",
        "if __name__ == \"__main__\":\n",
        "    main()"
      ]
    }
  ]
}