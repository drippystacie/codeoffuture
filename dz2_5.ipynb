{
  "nbformat": 4,
  "nbformat_minor": 0,
  "metadata": {
    "colab": {
      "provenance": [],
      "authorship_tag": "ABX9TyP6Ht67fwhl9z2TlfD6BAsB",
      "include_colab_link": true
    },
    "kernelspec": {
      "name": "python3",
      "display_name": "Python 3"
    },
    "language_info": {
      "name": "python"
    }
  },
  "cells": [
    {
      "cell_type": "markdown",
      "metadata": {
        "id": "view-in-github",
        "colab_type": "text"
      },
      "source": [
        "<a href=\"https://colab.research.google.com/github/drippystacie/codeoffuture/blob/main/dz2_5.ipynb\" target=\"_parent\"><img src=\"https://colab.research.google.com/assets/colab-badge.svg\" alt=\"Open In Colab\"/></a>"
      ]
    },
    {
      "cell_type": "code",
      "execution_count": 8,
      "metadata": {
        "id": "YbLI0e5O8DAH",
        "colab": {
          "base_uri": "https://localhost:8080/"
        },
        "outputId": "803656fc-fa1e-445c-85da-7cfea808837c"
      },
      "outputs": [
        {
          "output_type": "stream",
          "name": "stdout",
          "text": [
            "CustomerID                 0\n",
            "Gender                     0\n",
            "Age                        0\n",
            "Income                     0\n",
            "Spending Score (1-100)     0\n",
            "Profession                35\n",
            "Work Experience            0\n",
            "Family Size                0\n",
            "dtype: int64\n",
            "      CustomerID  Gender  Age  Income  Spending Score (1-100)     Profession  \\\n",
            "0              1    Male   19   15000                      39     Healthcare   \n",
            "1              2    Male   21   35000                      81       Engineer   \n",
            "2              3  Female   20   86000                       6       Engineer   \n",
            "3              4  Female   23   59000                      77         Lawyer   \n",
            "4              5  Female   31   38000                      40  Entertainment   \n",
            "...          ...     ...  ...     ...                     ...            ...   \n",
            "1995        1996  Female   71  184387                      40         Artist   \n",
            "1996        1997  Female   91   73158                      32         Doctor   \n",
            "1997        1998    Male   87   90961                      14     Healthcare   \n",
            "1998        1999    Male   77  182109                       4      Executive   \n",
            "1999        2000    Male   90  110610                      52  Entertainment   \n",
            "\n",
            "      Work Experience  Family Size  \n",
            "0                   1            4  \n",
            "1                   3            3  \n",
            "2                   1            1  \n",
            "3                   0            2  \n",
            "4                   2            6  \n",
            "...               ...          ...  \n",
            "1995                8            7  \n",
            "1996                7            7  \n",
            "1997                9            2  \n",
            "1998                7            2  \n",
            "1999                5            2  \n",
            "\n",
            "[1965 rows x 8 columns]\n",
            "                CustomerID        Age         Income  Spending Score (1-100)  \\\n",
            "Profession                                                                     \n",
            "Artist          994.034314  49.004902  108776.580065               52.678105   \n",
            "Doctor         1010.571429  46.621118  111573.217391               51.900621   \n",
            "Engineer        935.692737  55.094972  111161.240223               48.966480   \n",
            "Entertainment  1061.166667  51.162393  110650.333333               52.940171   \n",
            "Executive      1072.254902  46.601307  113770.130719               49.901961   \n",
            "Healthcare      970.876106  47.843658  112574.041298               50.516224   \n",
            "Homemaker      1022.916667  45.366667  108758.616667               46.383333   \n",
            "Lawyer          957.401408  47.753521  110995.838028               48.859155   \n",
            "Marketing      1038.211765  45.823529  107994.211765               48.717647   \n",
            "\n",
            "               Work Experience  Family Size  \n",
            "Profession                                   \n",
            "Artist                4.215686     3.653595  \n",
            "Doctor                4.304348     3.670807  \n",
            "Engineer              3.955307     3.581006  \n",
            "Entertainment         3.500000     3.888889  \n",
            "Executive             4.248366     3.967320  \n",
            "Healthcare            4.002950     3.905605  \n",
            "Homemaker             6.133333     4.050000  \n",
            "Lawyer                3.528169     3.619718  \n",
            "Marketing             4.305882     3.729412  \n"
          ]
        },
        {
          "output_type": "stream",
          "name": "stderr",
          "text": [
            "<ipython-input-8-cb442b7196a9>:7: FutureWarning: The default value of numeric_only in DataFrameGroupBy.mean is deprecated. In a future version, numeric_only will default to False. Either specify numeric_only or select only columns which should be valid for the function.\n",
            "  p = df.groupby('Profession').mean()\n"
          ]
        }
      ],
      "source": [
        "import numpy as np\n",
        "import pandas as pd\n",
        "df = pd.read_csv('/content/Customers.csv', sep = ';')\n",
        "print(df.isnull().sum())\n",
        "df.dropna(inplace=True)\n",
        "print(df)\n",
        "p = df.groupby('Profession').mean()\n",
        "print(p)"
      ]
    },
    {
      "cell_type": "code",
      "source": [],
      "metadata": {
        "id": "Fdl9sv_p8bXU"
      },
      "execution_count": null,
      "outputs": []
    }
  ]
}