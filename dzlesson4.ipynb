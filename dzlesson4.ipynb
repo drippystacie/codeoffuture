{
  "nbformat": 4,
  "nbformat_minor": 0,
  "metadata": {
    "colab": {
      "provenance": [],
      "authorship_tag": "ABX9TyO8yx/MvaQFCbArDJWD6YYb",
      "include_colab_link": true
    },
    "kernelspec": {
      "name": "python3",
      "display_name": "Python 3"
    },
    "language_info": {
      "name": "python"
    }
  },
  "cells": [
    {
      "cell_type": "markdown",
      "metadata": {
        "id": "view-in-github",
        "colab_type": "text"
      },
      "source": [
        "<a href=\"https://colab.research.google.com/github/drippystacie/codeoffuture/blob/main/dzlesson4.ipynb\" target=\"_parent\"><img src=\"https://colab.research.google.com/assets/colab-badge.svg\" alt=\"Open In Colab\"/></a>"
      ]
    },
    {
      "cell_type": "markdown",
      "source": [
        "Вводится строка. Нужно превратить строку в список, разбив строку на слова и вывести список из слов, записанный в обратном порядке.\n",
        "Ввод:Death there mirth way the noisy merit\n",
        "Вывод:['merit', 'noisy', 'the', 'way', 'mirth', 'there', 'Death']\n"
      ],
      "metadata": {
        "id": "mYJAsBNzH1Ix"
      }
    },
    {
      "cell_type": "markdown",
      "source": [],
      "metadata": {
        "id": "GTiapSV5H3LR"
      }
    },
    {
      "cell_type": "code",
      "execution_count": null,
      "metadata": {
        "colab": {
          "base_uri": "https://localhost:8080/"
        },
        "id": "4EqBMs5oE2cc",
        "outputId": "0ab17a43-0e00-45f5-bbd4-597b95c3f42f"
      },
      "outputs": [
        {
          "output_type": "stream",
          "name": "stdout",
          "text": [
            "Введите строку\n",
            "Death there mirth way the noisy merit\n",
            "['merit', 'noisy', 'the', 'way', 'mirth', 'there', 'Death']\n"
          ]
        }
      ],
      "source": [
        "print(\"Введите строку\")\n",
        "string1 = input()\n",
        "split_str = string1.split()\n",
        "split_str.reverse()\n",
        "print(split_str)"
      ]
    },
    {
      "cell_type": "markdown",
      "source": [
        "Вводится строка из не менее 15 символов, программа выводит на экран символы с чётными номерами (нумерация с 0).\n"
      ],
      "metadata": {
        "id": "rGIlypCOICSP"
      }
    },
    {
      "cell_type": "code",
      "source": [
        "print(\"Введите строку\")\n",
        "string2 = input()\n",
        "print(string2[::2])"
      ],
      "metadata": {
        "colab": {
          "base_uri": "https://localhost:8080/"
        },
        "id": "Kj1Q7Q3NIEO3",
        "outputId": "8bf986be-4507-4667-9a61-efd998f61f0f"
      },
      "execution_count": null,
      "outputs": [
        {
          "output_type": "stream",
          "name": "stdout",
          "text": [
            "Введите строку\n",
            "In the hole in the ground there lived a hobbit\n",
            "I h oei h rudteelvdahbi\n"
          ]
        }
      ]
    },
    {
      "cell_type": "markdown",
      "source": [
        "Вводится список чисел через пробел и натуральное число n - степень. Нужно возвести в заданную степень n все введенные числа.\n",
        "Желательно сделать, используя списочные выражения\n"
      ],
      "metadata": {
        "id": "rG_LHj6KeknL"
      }
    },
    {
      "cell_type": "code",
      "source": [
        "numbers = input('Введите список чисел через пробел: ').split()\n",
        "n = int(input('Введите степень: '))\n",
        "\n",
        "result = [int(num)**n for num in numbers]\n",
        "print(result)"
      ],
      "metadata": {
        "colab": {
          "base_uri": "https://localhost:8080/"
        },
        "id": "F7ac75UM_cqq",
        "outputId": "29cc24cc-4ddb-47a7-9669-8b70f3687503"
      },
      "execution_count": 11,
      "outputs": [
        {
          "output_type": "stream",
          "name": "stdout",
          "text": [
            "Введите список чисел через пробел: 3 5 -7 -13 43 8 0 -13 8 -1 2\n",
            "Введите степень: 2\n",
            "[9, 25, 49, 169, 1849, 64, 0, 169, 64, 1, 4]\n"
          ]
        }
      ]
    },
    {
      "cell_type": "code",
      "source": [],
      "metadata": {
        "id": "0V048BSG_1S0"
      },
      "execution_count": null,
      "outputs": []
    },
    {
      "cell_type": "markdown",
      "source": [
        "Вводится строка с текстом и символ. Требуется удвоить вхождение введённого символа в текст. Текст состоит из слов, записанных латинскими буквами через пробел, знаков препинания.\n"
      ],
      "metadata": {
        "id": "fwjDPq8m_83b"
      }
    },
    {
      "cell_type": "code",
      "source": [
        "text = input('Введите текст: ')\n",
        "char = input('Введите символ: ')\n",
        "words = text.split()\n",
        "for i in range(len(words)):\n",
        "    if char in words[i]:\n",
        "        words[i] = words[i].replace(char, char*2)\n",
        "result = ' '.join(words)\n",
        "print(result)"
      ],
      "metadata": {
        "colab": {
          "base_uri": "https://localhost:8080/"
        },
        "id": "sTOEQ5bhCwhM",
        "outputId": "f01e4d08-2d21-4f5f-9afb-fc2c00de7745"
      },
      "execution_count": 21,
      "outputs": [
        {
          "output_type": "stream",
          "name": "stdout",
          "text": [
            "Введите текст: nastya is queen\n",
            "Введите символ: u\n",
            "nastya is quueen\n"
          ]
        }
      ]
    },
    {
      "cell_type": "markdown",
      "source": [
        "Дана строка. Программа подсчитывает количество символов x и y и выводит строку вида \"x: (число), y: (число).\""
      ],
      "metadata": {
        "id": "hbeJbORRC5xR"
      }
    },
    {
      "cell_type": "code",
      "source": [
        "text = input('Введите текст: ')\n",
        "x_count = text.count('x')\n",
        "y_count = text.count('y')\n",
        "result = f'x: {x_count}, y: {y_count}'\n",
        "print(result)"
      ],
      "metadata": {
        "colab": {
          "base_uri": "https://localhost:8080/"
        },
        "id": "XLaU9ZTADBEY",
        "outputId": "15d2552c-ecec-40fe-dc7c-bc4133129c9d"
      },
      "execution_count": 23,
      "outputs": [
        {
          "output_type": "stream",
          "name": "stdout",
          "text": [
            "Введите текст: elon musk created social media called \"x\"\n",
            "x: 1, y: 0\n"
          ]
        }
      ]
    },
    {
      "cell_type": "markdown",
      "source": [
        "Вводится текст со сбалансированными скобками, программа выводит на экран текст без скобок и их содержимого. На пробелы и знаки препинания внимание не обращать, вложенных скобок в исходной строке нет.\n"
      ],
      "metadata": {
        "id": "lkNjLOmTEqjG"
      }
    },
    {
      "cell_type": "code",
      "source": [
        "text = input('Введите текст со скобками: ')\n",
        "result = ''\n",
        "stack = []\n",
        "for char in text:\n",
        "    if char == '{':\n",
        "        stack.append(char)\n",
        "    elif char == '}':\n",
        "        stack.pop()\n",
        "    elif not stack:\n",
        "        result += char\n",
        "print(result)"
      ],
      "metadata": {
        "colab": {
          "base_uri": "https://localhost:8080/"
        },
        "id": "8ZxEG5oxEtpq",
        "outputId": "d1f6a478-4fe7-44e1-8c86-fe21c3c6c6c2"
      },
      "execution_count": 25,
      "outputs": [
        {
          "output_type": "stream",
          "name": "stdout",
          "text": [
            "Введите текст со скобками: всем привет, {как дела?}\n",
            "всем привет, \n"
          ]
        }
      ]
    }
  ]
}