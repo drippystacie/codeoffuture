{
  "nbformat": 4,
  "nbformat_minor": 0,
  "metadata": {
    "colab": {
      "provenance": [],
      "authorship_tag": "ABX9TyNZv98T4mtMHt8kDFSHzfyN",
      "include_colab_link": true
    },
    "kernelspec": {
      "name": "python3",
      "display_name": "Python 3"
    },
    "language_info": {
      "name": "python"
    }
  },
  "cells": [
    {
      "cell_type": "markdown",
      "metadata": {
        "id": "view-in-github",
        "colab_type": "text"
      },
      "source": [
        "<a href=\"https://colab.research.google.com/github/drippystacie/codeoffuture/blob/main/dzlesson2.ipynb\" target=\"_parent\"><img src=\"https://colab.research.google.com/assets/colab-badge.svg\" alt=\"Open In Colab\"/></a>"
      ]
    },
    {
      "cell_type": "markdown",
      "source": [
        "Пользователь вводит целое число. Проверьте, является ли это число четным. Если число является четным, выведите «Данное число четное», если наоборот – выведите «Данное число не является четным»\n",
        "\n",
        "Пример:\n",
        "Ввод: 190\n",
        "Вывод: Данное число четное\n",
        "\n",
        "Ввод: 113\n",
        "Вывод: Данное число не является четным\n",
        "\n"
      ],
      "metadata": {
        "id": "rtNIXmSeaHEz"
      }
    },
    {
      "cell_type": "code",
      "execution_count": 2,
      "metadata": {
        "colab": {
          "base_uri": "https://localhost:8080/"
        },
        "id": "8WHrsRAkVLGt",
        "outputId": "d01c0bc3-da03-4ffe-b53b-48554ba85420"
      },
      "outputs": [
        {
          "output_type": "stream",
          "name": "stdout",
          "text": [
            "113\n",
            "Данное число не является четным\n"
          ]
        }
      ],
      "source": [
        "n = int(input())\n",
        "if n % 2 == 0:\n",
        "  print(\"Данное число четное\")\n",
        "else:\n",
        "  print(\"Данное число не является четным\")"
      ]
    },
    {
      "cell_type": "markdown",
      "source": [
        "Пользователь вводит 2 числа.\n",
        "Вывести на экран большее из этих чисел\n",
        "\n",
        "Пример:\n",
        "Ввод: 3 4\n",
        "Вывод: 4\n"
      ],
      "metadata": {
        "id": "bDq3RWkEaNOD"
      }
    },
    {
      "cell_type": "code",
      "source": [
        "m = int(input())\n",
        "r = int(input())\n",
        "if m > r:\n",
        "  print(m)\n",
        "else:\n",
        "  print(r)"
      ],
      "metadata": {
        "colab": {
          "base_uri": "https://localhost:8080/"
        },
        "id": "rGlTGfGgaOzj",
        "outputId": "9f6e86c3-19f7-4d67-a55b-c8e557539b46"
      },
      "execution_count": 7,
      "outputs": [
        {
          "output_type": "stream",
          "name": "stdout",
          "text": [
            "3\n",
            "4\n",
            "4\n"
          ]
        }
      ]
    },
    {
      "cell_type": "markdown",
      "source": [
        "Проверить является ли клетка шахматной доски белой\n",
        "Пользователь вводит 2 числа (координаты клетки шахматного поля, от 1 до 8)\n",
        " Вывести YES, если клетка белая, и NO, если клетка черная\n",
        "\n",
        "Пример:\n",
        "Ввод: 5 5\n",
        "Вывод: NO\n",
        "\n"
      ],
      "metadata": {
        "id": "UsvYlDF-axyx"
      }
    },
    {
      "cell_type": "code",
      "source": [
        "q = int(input()) #вертикальные координаты\n",
        "w = int(input()) #горизонтальные\n",
        "if (q % 2 == 0 and w % 2 != 0) or (q % 2 != 0 and w % 2 == 0):\n",
        "  print(\"YES\")\n",
        "else:\n",
        "  print(\"NO\")"
      ],
      "metadata": {
        "colab": {
          "base_uri": "https://localhost:8080/"
        },
        "id": "CFqJ1PIga2r5",
        "outputId": "1bef17e3-53fd-425c-8397-b74944ac3f2e"
      },
      "execution_count": 19,
      "outputs": [
        {
          "output_type": "stream",
          "name": "stdout",
          "text": [
            "5\n",
            "5\n",
            "NO\n"
          ]
        }
      ]
    }
  ]
}