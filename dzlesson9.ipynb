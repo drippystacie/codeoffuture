{
  "nbformat": 4,
  "nbformat_minor": 0,
  "metadata": {
    "colab": {
      "provenance": [],
      "authorship_tag": "ABX9TyNHlPyt5oNZNYRW6nxXW6ZC",
      "include_colab_link": true
    },
    "kernelspec": {
      "name": "python3",
      "display_name": "Python 3"
    },
    "language_info": {
      "name": "python"
    }
  },
  "cells": [
    {
      "cell_type": "markdown",
      "metadata": {
        "id": "view-in-github",
        "colab_type": "text"
      },
      "source": [
        "<a href=\"https://colab.research.google.com/github/drippystacie/codeoffuture/blob/main/dzlesson9.ipynb\" target=\"_parent\"><img src=\"https://colab.research.google.com/assets/colab-badge.svg\" alt=\"Open In Colab\"/></a>"
      ]
    },
    {
      "cell_type": "code",
      "execution_count": 2,
      "metadata": {
        "colab": {
          "base_uri": "https://localhost:8080/"
        },
        "id": "DjDA3Rxk8y48",
        "outputId": "935103fe-764b-4da5-dd22-27d2c853b99d"
      },
      "outputs": [
        {
          "output_type": "stream",
          "name": "stdout",
          "text": [
            "Введите первое число: 5\n",
            "Введите второе число: 125\n",
            "Наименьшее общее кратное чисел 5 и 125 : 125\n"
          ]
        }
      ],
      "source": [
        "def find_nod(a, b):\n",
        "    while b != 0:\n",
        "        a, b = b, a % b\n",
        "    return a\n",
        "def find_nok(a, b):\n",
        "    gcd = find_nod(a, b)\n",
        "    lcm = (a * b) / gcd\n",
        "    return int(lcm)\n",
        "a = int(input(\"Введите первое число: \"))\n",
        "b = int(input(\"Введите второе число: \"))\n",
        "lcm = find_nok(a, b)\n",
        "print(\"Наименьшее общее кратное чисел\", a, \"и\", b, \":\", lcm)"
      ]
    },
    {
      "cell_type": "code",
      "source": [
        "def is_simple(num):\n",
        "    if num <= 1:\n",
        "        return False\n",
        "    for i in range(2, int(num ** 0.5) + 1):\n",
        "        if num % i == 0:\n",
        "            return False\n",
        "    return True\n",
        "def find_simple(n):\n",
        "    simple_numbers = []\n",
        "    for num in range(1, n + 1):\n",
        "        if is_simple(num):\n",
        "            simple_numbers.append(num)\n",
        "    return simple_numbers\n",
        "n = int(input(\"Введите число n: \"))\n",
        "simple_numbers = find_simple(n)\n",
        "print(\"Простые числа от 1 до\", n, \":\", simple_numbers)"
      ],
      "metadata": {
        "colab": {
          "base_uri": "https://localhost:8080/"
        },
        "id": "hpMem1pY-8cW",
        "outputId": "558cefc1-4f7d-423f-9668-f7c26a8b0163"
      },
      "execution_count": 4,
      "outputs": [
        {
          "output_type": "stream",
          "name": "stdout",
          "text": [
            "Введите число n: 67\n",
            "Простые числа от 1 до 67 : [2, 3, 5, 7, 11, 13, 17, 19, 23, 29, 31, 37, 41, 43, 47, 53, 59, 61, 67]\n"
          ]
        }
      ]
    },
    {
      "cell_type": "code",
      "source": [
        "def find_delitel(n):\n",
        "    deliteli = []\n",
        "    for i in range(1, n + 1):\n",
        "        if n % i == 0:\n",
        "            deliteli.append(i)\n",
        "    return deliteli\n",
        "n = int(input(\"Введите число n: \"))\n",
        "deliteli = find_delitel(n)\n",
        "print(\"Делители числа\", n, \":\", deliteli)"
      ],
      "metadata": {
        "colab": {
          "base_uri": "https://localhost:8080/"
        },
        "id": "0dOj_BZZB9tT",
        "outputId": "cf8f8da5-30d8-4c8d-e9c0-ad1cf874580b"
      },
      "execution_count": 6,
      "outputs": [
        {
          "output_type": "stream",
          "name": "stdout",
          "text": [
            "Введите число n: 15\n",
            "Делители числа 15 : [1, 3, 5, 15]\n"
          ]
        }
      ]
    },
    {
      "cell_type": "markdown",
      "source": [],
      "metadata": {
        "id": "Di--0C9QCzWi"
      }
    }
  ]
}