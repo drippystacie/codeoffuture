{
  "nbformat": 4,
  "nbformat_minor": 0,
  "metadata": {
    "colab": {
      "provenance": [],
      "authorship_tag": "ABX9TyNXXRwS7Ir/RqfY1Sp+UrHy",
      "include_colab_link": true
    },
    "kernelspec": {
      "name": "python3",
      "display_name": "Python 3"
    },
    "language_info": {
      "name": "python"
    }
  },
  "cells": [
    {
      "cell_type": "markdown",
      "metadata": {
        "id": "view-in-github",
        "colab_type": "text"
      },
      "source": [
        "<a href=\"https://colab.research.google.com/github/drippystacie/codeoffuture/blob/main/dzlesson6.ipynb\" target=\"_parent\"><img src=\"https://colab.research.google.com/assets/colab-badge.svg\" alt=\"Open In Colab\"/></a>"
      ]
    },
    {
      "cell_type": "code",
      "execution_count": 14,
      "metadata": {
        "colab": {
          "base_uri": "https://localhost:8080/"
        },
        "id": "c7OpS4Xcdj-7",
        "outputId": "be6d146a-1c57-40cb-8452-6075aeeb3a4c"
      },
      "outputs": [
        {
          "output_type": "stream",
          "name": "stdout",
          "text": [
            "Введите строку: казак\n",
            "True\n"
          ]
        }
      ],
      "source": [
        "s = input(\"Введите строку: \")\n",
        "if is_palindrome(s):\n",
        "    print(\"True\")\n",
        "else:\n",
        "    print(\"False\")"
      ]
    },
    {
      "cell_type": "code",
      "source": [
        "def register(name, surname, otchestvo, year):\n",
        "    return f\"{surname} {name} {otchestvo} {year} г.р. зарегистрирован\"\n",
        "surname = input(\"Введите фамилию: \")\n",
        "name = input(\"Введите имя: \")\n",
        "otchestvo = input(\"Введите отчество: \")\n",
        "year = input(\"Введите год рождения: \")\n",
        "print(register(name, surname, otchestvo, year))"
      ],
      "metadata": {
        "colab": {
          "base_uri": "https://localhost:8080/"
        },
        "id": "HZQQQtmfgcDU",
        "outputId": "6a3a4d2b-881b-4aed-c2d7-5b1f667697f3"
      },
      "execution_count": 19,
      "outputs": [
        {
          "output_type": "stream",
          "name": "stdout",
          "text": [
            "Введите фамилию: Иванов\n",
            "Введите имя: Иван\n",
            "Введите отчество: Иванович\n",
            "Введите год рождения: 1973\n",
            "Иванов Иван Иванович 1973 г.р. зарегистрирован\n"
          ]
        }
      ]
    },
    {
      "cell_type": "code",
      "source": [
        "def maksimum(a,b,c):\n",
        "    if a > b:\n",
        "        if a > c:\n",
        "            return a\n",
        "        else:\n",
        "            return c\n",
        "    else:\n",
        "        if b > c:\n",
        "             return b\n",
        "        else:\n",
        "             return c\n",
        "print (maksimum(10, 15, 13))"
      ],
      "metadata": {
        "colab": {
          "base_uri": "https://localhost:8080/"
        },
        "id": "DYN269LhiCmU",
        "outputId": "df1e5d9e-5b80-423d-e3e9-dd6501967fdd"
      },
      "execution_count": 23,
      "outputs": [
        {
          "output_type": "stream",
          "name": "stdout",
          "text": [
            "15\n"
          ]
        }
      ]
    }
  ]
}