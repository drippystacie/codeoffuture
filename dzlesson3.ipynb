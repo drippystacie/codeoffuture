{
  "nbformat": 4,
  "nbformat_minor": 0,
  "metadata": {
    "colab": {
      "provenance": [],
      "authorship_tag": "ABX9TyOex6iiWfc1uQRe37b+47sW",
      "include_colab_link": true
    },
    "kernelspec": {
      "name": "python3",
      "display_name": "Python 3"
    },
    "language_info": {
      "name": "python"
    }
  },
  "cells": [
    {
      "cell_type": "markdown",
      "metadata": {
        "id": "view-in-github",
        "colab_type": "text"
      },
      "source": [
        "<a href=\"https://colab.research.google.com/github/drippystacie/codeoffuture/blob/main/dzlesson3.ipynb\" target=\"_parent\"><img src=\"https://colab.research.google.com/assets/colab-badge.svg\" alt=\"Open In Colab\"/></a>"
      ]
    },
    {
      "cell_type": "markdown",
      "source": [
        "Напишите программу, которая находит сумму цифр заданного числа. Например, для числа 123 сумма цифр равна 1 + 2 + 3 = 6\n",
        "\n"
      ],
      "metadata": {
        "id": "72y_fiPQ6Vk4"
      }
    },
    {
      "cell_type": "code",
      "source": [
        "chislo = int(input())\n",
        "sum = 0\n",
        "while chislo > 0:\n",
        "  digit = chislo % 10\n",
        "  sum += digit\n",
        "  chislo //= 10\n",
        "print(\"Сумма:\", sum)\n",
        "\n"
      ],
      "metadata": {
        "colab": {
          "base_uri": "https://localhost:8080/"
        },
        "id": "wA7SF7ro6Qno",
        "outputId": "d4d42883-af79-48a4-f64c-a53fb356fcde"
      },
      "execution_count": null,
      "outputs": [
        {
          "output_type": "stream",
          "name": "stdout",
          "text": [
            "123\n",
            "Сумма: 6\n"
          ]
        }
      ]
    },
    {
      "cell_type": "markdown",
      "source": [
        "Вите очень понравилась идея Фёдора с калькулятором, он захотел создать свой, но чтобы не повторять идею друга полностью, решил сделать калькулятор, который перемножает числа от 1 до n. Тем более, у получившегося произведения есть название - факториал. Обозначается он так: n!\n",
        "Вводится натуральное число n. Выведи результат умножения чисел от 1 до n.\n"
      ],
      "metadata": {
        "id": "EKUvFCLlByLG"
      }
    },
    {
      "cell_type": "code",
      "source": [
        "n = int(input(\"Введите число, до которого надо умножить\"))\n",
        "fact = 1\n",
        "for i in range(1, n+1):\n",
        "  fact *= i\n",
        "print(\"Факториал числа\", n, \"равен\", fact)"
      ],
      "metadata": {
        "colab": {
          "base_uri": "https://localhost:8080/"
        },
        "id": "HD-PhzJdB1p7",
        "outputId": "fb0aa57c-3b09-44da-a2c4-0be485741b27"
      },
      "execution_count": null,
      "outputs": [
        {
          "output_type": "stream",
          "name": "stdout",
          "text": [
            "Введите число, до которого надо умножить10\n",
            "Факториал числа 10 равен 3628800\n"
          ]
        }
      ]
    },
    {
      "cell_type": "markdown",
      "source": [
        "Миша учит признаки делимости чисел на 7. Чтобы себя проверить, он написал программу, которая выводит все числа, кратные семи до числа n. Есть целое число n. Вывести в столбик все такие числа."
      ],
      "metadata": {
        "id": "zfG_AM36DoDH"
      }
    },
    {
      "cell_type": "code",
      "source": [
        "n = int(input(\"Введите натуральное число n: \"))\n",
        "\n",
        "for i in range(1, n+1):\n",
        "    if i % 7 == 0:\n",
        "        print(i)"
      ],
      "metadata": {
        "colab": {
          "base_uri": "https://localhost:8080/"
        },
        "id": "pLv-cpBfESva",
        "outputId": "6b8c3bfd-5f53-44fc-e3ad-e96afeb83f7e"
      },
      "execution_count": null,
      "outputs": [
        {
          "output_type": "stream",
          "name": "stdout",
          "text": [
            "Введите натуральное число n: 49\n",
            "7\n",
            "14\n",
            "21\n",
            "28\n",
            "35\n",
            "42\n",
            "49\n"
          ]
        }
      ]
    }
  ]
}