{
  "nbformat": 4,
  "nbformat_minor": 0,
  "metadata": {
    "colab": {
      "provenance": [],
      "authorship_tag": "ABX9TyOGbPs5eld2zuHe68AHdcSa",
      "include_colab_link": true
    },
    "kernelspec": {
      "name": "python3",
      "display_name": "Python 3"
    },
    "language_info": {
      "name": "python"
    }
  },
  "cells": [
    {
      "cell_type": "markdown",
      "metadata": {
        "id": "view-in-github",
        "colab_type": "text"
      },
      "source": [
        "<a href=\"https://colab.research.google.com/github/drippystacie/codeoffuture/blob/main/dzlesson9(fix)%22.ipynb\" target=\"_parent\"><img src=\"https://colab.research.google.com/assets/colab-badge.svg\" alt=\"Open In Colab\"/></a>"
      ]
    },
    {
      "cell_type": "code",
      "execution_count": 1,
      "metadata": {
        "colab": {
          "base_uri": "https://localhost:8080/"
        },
        "id": "DjDA3Rxk8y48",
        "outputId": "05d583a0-8b57-42cd-9ce4-9c56aac6f2e1"
      },
      "outputs": [
        {
          "output_type": "stream",
          "name": "stdout",
          "text": [
            "Введите первое число: 10\n",
            "Введите второе число: 120\n",
            "Наименьшее общее кратное чисел 10 и 120 равно 120\n"
          ]
        }
      ],
      "source": [
        "num1 = int(input(\"Введите первое число: \"))\n",
        "num2 = int(input(\"Введите второе число: \"))\n",
        "\n",
        "def gcd(a, b):\n",
        "    while b:\n",
        "        a, b = b, a % b\n",
        "    return a\n",
        "\n",
        "def lcm(a, b):\n",
        "    return abs(a * b) // gcd(a, b)\n",
        "\n",
        "print(f\"Наименьшее общее кратное чисел {num1} и {num2} равно {lcm(num1, num2)}\")"
      ]
    },
    {
      "cell_type": "code",
      "source": [
        "def x(n):\n",
        "    y = []\n",
        "    for num in range(2, n+1):\n",
        "        is_prime = True\n",
        "        for i in range(2, int(num**0.5) + 1):\n",
        "            if num % i == 0:\n",
        "                is_prime = False\n",
        "                break\n",
        "        if is_prime:\n",
        "            y.append(num)\n",
        "    return y\n",
        "\n",
        "n = int(input(\"Введите число: \" ))\n",
        "print(\"Простые числа от 1 до\", n, \":\", x(n))"
      ],
      "metadata": {
        "colab": {
          "base_uri": "https://localhost:8080/"
        },
        "id": "hpMem1pY-8cW",
        "outputId": "6d5a7767-b93e-4198-b50c-dbf6ae316221"
      },
      "execution_count": 2,
      "outputs": [
        {
          "output_type": "stream",
          "name": "stdout",
          "text": [
            "Введите число: 7\n",
            "Простые числа от 1 до 7 : [2, 3, 5, 7]\n"
          ]
        }
      ]
    },
    {
      "cell_type": "code",
      "source": [
        "def j(n):\n",
        "    d = []\n",
        "    for i in range(1, n+1):\n",
        "        if n % i == 0:\n",
        "            d.append(i)\n",
        "    return d\n",
        "\n",
        "n = int(input(\"Введите число: \"))\n",
        "result = j(n)\n",
        "print(\"Делители числа\", n, \":\", result)"
      ],
      "metadata": {
        "colab": {
          "base_uri": "https://localhost:8080/"
        },
        "id": "0dOj_BZZB9tT",
        "outputId": "78c80a80-9cb2-4bc6-8c6b-a2f1a6584cfc"
      },
      "execution_count": 3,
      "outputs": [
        {
          "output_type": "stream",
          "name": "stdout",
          "text": [
            "Введите число: 56\n",
            "Делители числа 56 : [1, 2, 4, 7, 8, 14, 28, 56]\n"
          ]
        }
      ]
    },
    {
      "cell_type": "markdown",
      "source": [],
      "metadata": {
        "id": "Di--0C9QCzWi"
      }
    }
  ]
}