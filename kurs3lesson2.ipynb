{
  "nbformat": 4,
  "nbformat_minor": 0,
  "metadata": {
    "colab": {
      "provenance": [],
      "authorship_tag": "ABX9TyOY8Eu01y0UaTmNKy+Xec6d",
      "include_colab_link": true
    },
    "kernelspec": {
      "name": "python3",
      "display_name": "Python 3"
    },
    "language_info": {
      "name": "python"
    }
  },
  "cells": [
    {
      "cell_type": "markdown",
      "metadata": {
        "id": "view-in-github",
        "colab_type": "text"
      },
      "source": [
        "<a href=\"https://colab.research.google.com/github/drippystacie/codeoffuture/blob/main/kurs3lesson2.ipynb\" target=\"_parent\"><img src=\"https://colab.research.google.com/assets/colab-badge.svg\" alt=\"Open In Colab\"/></a>"
      ]
    },
    {
      "cell_type": "code",
      "execution_count": 2,
      "metadata": {
        "colab": {
          "base_uri": "https://localhost:8080/"
        },
        "id": "WJEH2WTA5BSJ",
        "outputId": "e236fa8f-1783-477a-da22-b5376b04edfa"
      },
      "outputs": [
        {
          "output_type": "stream",
          "name": "stdout",
          "text": [
            "Веса модели: w = 1.9967551070235217 свободный коэффициент: b = 0.017133984168827384\n"
          ]
        }
      ],
      "source": [
        "import numpy as np\n",
        "X = np.array([1, 3, 7])\n",
        "y = np.array([2, 6, 14])\n",
        "w = 0\n",
        "b = 0\n",
        "lr = 0.01\n",
        "kolvo = 1000\n",
        "for epoch in range(kolvo):\n",
        "    predskaz = w * X + b\n",
        "    error = predskaz - y\n",
        "    w -= lr * np.mean(error * X)\n",
        "    b -= lr * np.mean(error)\n",
        "print(\"Веса модели: w =\", w, \"свободный коэффициент: b =\", b)"
      ]
    }
  ]
}