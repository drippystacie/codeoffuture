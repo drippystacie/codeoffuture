{
  "nbformat": 4,
  "nbformat_minor": 0,
  "metadata": {
    "colab": {
      "provenance": [],
      "authorship_tag": "ABX9TyPjKTlKdi85IHoQYwRLJF4O",
      "include_colab_link": true
    },
    "kernelspec": {
      "name": "python3",
      "display_name": "Python 3"
    },
    "language_info": {
      "name": "python"
    }
  },
  "cells": [
    {
      "cell_type": "markdown",
      "metadata": {
        "id": "view-in-github",
        "colab_type": "text"
      },
      "source": [
        "<a href=\"https://colab.research.google.com/github/drippystacie/codeoffuture/blob/main/dzlesson(tree).ipynb\" target=\"_parent\"><img src=\"https://colab.research.google.com/assets/colab-badge.svg\" alt=\"Open In Colab\"/></a>"
      ]
    },
    {
      "cell_type": "code",
      "execution_count": null,
      "metadata": {
        "colab": {
          "base_uri": "https://localhost:8080/"
        },
        "id": "OwJ2yp-4Av5G",
        "outputId": "241eaafb-4dc8-4d27-9083-8e3f4bcab2d6"
      },
      "outputs": [
        {
          "output_type": "stream",
          "name": "stdout",
          "text": [
            "Наилучшие параметры: {'criterion': 'gini', 'max_depth': 2, 'min_samples_split': 2}\n",
            "Оценка accuracy: 0.9333333333333332\n"
          ]
        }
      ],
      "source": [
        "from sklearn.datasets import load_iris\n",
        "from sklearn.tree import DecisionTreeClassifier\n",
        "from sklearn.model_selection import GridSearchCV\n",
        "iris = load_iris()\n",
        "X = iris.data\n",
        "y = iris.target\n",
        "parameters = {'criterion': ['gini', 'entropy'], 'max_depth': [1, 2], 'min_samples_split': [2, 5, 10]}\n",
        "dt = DecisionTreeClassifier()\n",
        "clf = GridSearchCV(dt, parameters, cv=5)\n",
        "clf.fit(X, y)\n",
        "print(\"Наилучшие параметры:\", clf.best_params_)\n",
        "print(\"Оценка accuracy:\", clf.best_score_)"
      ]
    }
  ]
}