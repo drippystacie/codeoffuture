{
  "nbformat": 4,
  "nbformat_minor": 0,
  "metadata": {
    "colab": {
      "provenance": [],
      "authorship_tag": "ABX9TyNqkwNX4FaHNJKDALlEWXXw",
      "include_colab_link": true
    },
    "kernelspec": {
      "name": "python3",
      "display_name": "Python 3"
    },
    "language_info": {
      "name": "python"
    }
  },
  "cells": [
    {
      "cell_type": "markdown",
      "metadata": {
        "id": "view-in-github",
        "colab_type": "text"
      },
      "source": [
        "<a href=\"https://colab.research.google.com/github/drippystacie/codeoffuture/blob/main/kurs3lesson3.ipynb\" target=\"_parent\"><img src=\"https://colab.research.google.com/assets/colab-badge.svg\" alt=\"Open In Colab\"/></a>"
      ]
    },
    {
      "cell_type": "code",
      "execution_count": null,
      "metadata": {
        "id": "RDekkh7r6oF4"
      },
      "outputs": [],
      "source": [
        "import numpy as np\n",
        "from sklearn.linear_model import LinearRegression\n",
        "x1 = np.random.randint(100, size=100)\n",
        "x2 = np.random.randint(200, size=100)\n",
        "y = 3 * x1 + 2 * x2 - 1\n",
        "x1 = x1 + np.random.randint(5, size=100) / 10\n",
        "x2 = x2 + np.random.randint(5, size=100) / 10\n",
        "y = y + np.random.randint(5, size=100) / 10\n",
        "X = np.column_stack((x1, x2))\n",
        "model = LinearRegression()\n",
        "model.fit(X, y)\n",
        "print(\"Веса модели (w1, w2):\", model.coef_)\n",
        "print(\"Свободный коэффициент (b):\", model.intercept_)"
      ]
    }
  ]
}